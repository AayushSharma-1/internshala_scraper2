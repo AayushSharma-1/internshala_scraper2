{
 "cells": [
  {
   "cell_type": "code",
   "execution_count": 1,
   "id": "d9939c06-d06c-464c-bdad-c5bc0d996909",
   "metadata": {
    "tags": []
   },
   "outputs": [],
   "source": [
    "import requests\n",
    "import pandas as pd\n",
    "from bs4 import BeautifulSoup\n",
    "import re"
   ]
  },
  {
   "cell_type": "code",
   "execution_count": 47,
   "id": "c8899a47-211b-4e38-904a-2982c6836b99",
   "metadata": {
    "tags": []
   },
   "outputs": [],
   "source": [
    "def get_details(data):\n",
    "    title = ''\n",
    "    company_name = '' \n",
    "    location = []\n",
    "    start_date = ''\n",
    "    duration = ''\n",
    "    stipend =''\n",
    "    status = ''\n",
    "    links = ''\n",
    "    pattern_for_status = '<i class=\\\"ic-16-reschedule\\\"></i>([^<]+)'\n",
    "    # data = BeautifulSoup(data,'html.parser')\n",
    "    title = data.find('h3', attrs = {'class' : 'heading_4_5 profile'}).text.strip()\n",
    "    # for tag in data.find('div', attrs = {'class': 'company_and_premium'}):\n",
    "    company_name = re.findall('<p>\\s(.*?)</p>', str(data.find('div', attrs = {'class': 'company_and_premium'})))[0].strip()\n",
    "    # company_name = data.find('a', attrs = {'class': 'link_display_like_text view_detail_button'}).text.strip()\n",
    "    location.append(re.findall('>(.*?)</a>',str(data.find('div', attrs = {'id': 'location_names'})) ))\n",
    "    try:\n",
    "        start_date = data.find('span', attrs={'class': 'start_immediately_desktop'}).text\n",
    "    except AttributeError:\n",
    "        try:\n",
    "            start_date = data.find('div', attrs={'id': 'start-date-first'}).text\n",
    "        except AttributeError:\n",
    "            start_date = \"Not Available\"\n",
    "\n",
    "        \n",
    "    duration = data.find('div', attrs = {'class' : 'item_body'}).text.strip()\n",
    "    stipend = data.find('span', attrs = {'class' : 'stipend'}).text.strip()\n",
    "    status = re.findall(pattern_for_status , str(dee[0]))[0]\n",
    "    links = data.find('a', attrs = {'class' : 'btn btn-secondary view_detail_button_outline', 'href' : True}).get('href')\n",
    "    \n",
    "    data = {\n",
    "    \"Title\": title,\n",
    "    \"Company Name\": company_name,\n",
    "    \"Location\": location,\n",
    "    \"Start Date\": start_date,\n",
    "    \"Duration\": duration,\n",
    "    \"Stipend\": stipend,\n",
    "    \"Status\": status,\n",
    "    \"Links\": 'https://internshala.com' + links\n",
    "    }\n",
    "    \n",
    "    return data\n",
    "    "
   ]
  },
  {
   "cell_type": "code",
   "execution_count": 21,
   "id": "199c9d37-16be-486f-8695-d1c2a932c500",
   "metadata": {
    "tags": []
   },
   "outputs": [
    {
     "name": "stdout",
     "output_type": "stream",
     "text": [
      "Response = 200\n",
      "Parsed Landing Page\n"
     ]
    }
   ],
   "source": [
    "# link = 'https://internshala.com/internships/computer-science-internship/'\n",
    "link = 'https://internshala.com/internships/big-data,data-analysis,data-analytics,data-science,machine-learning,python-internship/'\n",
    "\n",
    "response = requests.get(link)\n",
    "print('Response = ' + str(response.status_code))\n",
    "    \n",
    "if response.status_code == 200:\n",
    "    soup = BeautifulSoup(response.content, 'html.parser')\n",
    "    print(\"Parsed Landing Page\")\n",
    "    \n",
    "    link_soup = soup.find('span', attrs = {'id':\"total_pages\"}).text\n",
    "    total_pages = int(link_soup)\n",
    "    \n"
   ]
  },
  {
   "cell_type": "code",
   "execution_count": 23,
   "id": "bd8c522c",
   "metadata": {},
   "outputs": [
    {
     "ename": "NameError",
     "evalue": "name 'data' is not defined",
     "output_type": "error",
     "traceback": [
      "\u001b[1;31m---------------------------------------------------------------------------\u001b[0m",
      "\u001b[1;31mNameError\u001b[0m                                 Traceback (most recent call last)",
      "Cell \u001b[1;32mIn[23], line 1\u001b[0m\n\u001b[1;32m----> 1\u001b[0m \u001b[43mdata\u001b[49m\n",
      "\u001b[1;31mNameError\u001b[0m: name 'data' is not defined"
     ]
    }
   ],
   "source": [
    "data"
   ]
  },
  {
   "cell_type": "code",
   "execution_count": 24,
   "id": "251df9f5-6ca4-47ea-927b-ddae2ddec733",
   "metadata": {
    "tags": []
   },
   "outputs": [],
   "source": [
    "dict_of_data = []\n",
    "for j in range(1,total_pages+1):\n",
    "    \n",
    "    res_link = link + 'page-' + str(j)\n",
    "    res = requests.get(res_link)\n",
    "    res_soup = BeautifulSoup(res.content, 'html.parser')\n",
    "    dee = res_soup.find_all('div', attrs = {'class' : 'container-fluid individual_internship visibilityTrackerItem'})\n",
    "    \n",
    "    # for i in range(len(dee)):\n",
    "    #     dict_of_data.append(get_details(dee[i]))"
   ]
  },
  {
   "cell_type": "code",
   "execution_count": 48,
   "metadata": {},
   "outputs": [
    {
     "ename": "KeyError",
     "evalue": "0",
     "output_type": "error",
     "traceback": [
      "\u001b[1;31m---------------------------------------------------------------------------\u001b[0m",
      "\u001b[1;31mKeyError\u001b[0m                                  Traceback (most recent call last)",
      "Cell \u001b[1;32mIn[48], line 1\u001b[0m\n\u001b[1;32m----> 1\u001b[0m \u001b[43mget_details\u001b[49m\u001b[43m(\u001b[49m\u001b[43mdee\u001b[49m\u001b[43m[\u001b[49m\u001b[38;5;241;43m0\u001b[39;49m\u001b[43m]\u001b[49m\u001b[43m)\u001b[49m\n",
      "Cell \u001b[1;32mIn[47], line 12\u001b[0m, in \u001b[0;36mget_details\u001b[1;34m(data)\u001b[0m\n\u001b[0;32m     10\u001b[0m pattern_for_status \u001b[38;5;241m=\u001b[39m \u001b[38;5;124m'\u001b[39m\u001b[38;5;124m<i class=\u001b[39m\u001b[38;5;130;01m\\\"\u001b[39;00m\u001b[38;5;124mic-16-reschedule\u001b[39m\u001b[38;5;130;01m\\\"\u001b[39;00m\u001b[38;5;124m></i>([^<]+)\u001b[39m\u001b[38;5;124m'\u001b[39m\n\u001b[0;32m     11\u001b[0m \u001b[38;5;66;03m# data = BeautifulSoup(data,'html.parser')\u001b[39;00m\n\u001b[1;32m---> 12\u001b[0m title \u001b[38;5;241m=\u001b[39m \u001b[43mdata\u001b[49m\u001b[38;5;241;43m.\u001b[39;49m\u001b[43mfind\u001b[49m\u001b[43m(\u001b[49m\u001b[38;5;124;43m'\u001b[39;49m\u001b[38;5;124;43mh3\u001b[39;49m\u001b[38;5;124;43m'\u001b[39;49m\u001b[43m,\u001b[49m\u001b[43m \u001b[49m\u001b[43mattrs\u001b[49m\u001b[43m \u001b[49m\u001b[38;5;241;43m=\u001b[39;49m\u001b[43m \u001b[49m\u001b[43m{\u001b[49m\u001b[38;5;124;43m'\u001b[39;49m\u001b[38;5;124;43mclass\u001b[39;49m\u001b[38;5;124;43m'\u001b[39;49m\u001b[43m \u001b[49m\u001b[43m:\u001b[49m\u001b[43m \u001b[49m\u001b[38;5;124;43m'\u001b[39;49m\u001b[38;5;124;43mheading_4_5 profile\u001b[39;49m\u001b[38;5;124;43m'\u001b[39;49m\u001b[43m}\u001b[49m\u001b[43m)\u001b[49m\u001b[43m[\u001b[49m\u001b[38;5;241;43m0\u001b[39;49m\u001b[43m]\u001b[49m\u001b[38;5;241m.\u001b[39mstrip()\n\u001b[0;32m     13\u001b[0m \u001b[38;5;66;03m# for tag in data.find('div', attrs = {'class': 'company_and_premium'}):\u001b[39;00m\n\u001b[0;32m     14\u001b[0m company_name \u001b[38;5;241m=\u001b[39m re\u001b[38;5;241m.\u001b[39mfindall(\u001b[38;5;124m'\u001b[39m\u001b[38;5;124m<p>\u001b[39m\u001b[38;5;124m\\\u001b[39m\u001b[38;5;124ms(.*?)</p>\u001b[39m\u001b[38;5;124m'\u001b[39m, \u001b[38;5;28mstr\u001b[39m(data\u001b[38;5;241m.\u001b[39mfind(\u001b[38;5;124m'\u001b[39m\u001b[38;5;124mdiv\u001b[39m\u001b[38;5;124m'\u001b[39m, attrs \u001b[38;5;241m=\u001b[39m {\u001b[38;5;124m'\u001b[39m\u001b[38;5;124mclass\u001b[39m\u001b[38;5;124m'\u001b[39m: \u001b[38;5;124m'\u001b[39m\u001b[38;5;124mcompany_and_premium\u001b[39m\u001b[38;5;124m'\u001b[39m})))[\u001b[38;5;241m0\u001b[39m]\u001b[38;5;241m.\u001b[39mstrip()\n",
      "File \u001b[1;32mc:\\Users\\aayus\\anaconda3\\lib\\site-packages\\bs4\\element.py:1573\u001b[0m, in \u001b[0;36mTag.__getitem__\u001b[1;34m(self, key)\u001b[0m\n\u001b[0;32m   1570\u001b[0m \u001b[38;5;28;01mdef\u001b[39;00m \u001b[38;5;21m__getitem__\u001b[39m(\u001b[38;5;28mself\u001b[39m, key):\n\u001b[0;32m   1571\u001b[0m \u001b[38;5;250m    \u001b[39m\u001b[38;5;124;03m\"\"\"tag[key] returns the value of the 'key' attribute for the Tag,\u001b[39;00m\n\u001b[0;32m   1572\u001b[0m \u001b[38;5;124;03m    and throws an exception if it's not there.\"\"\"\u001b[39;00m\n\u001b[1;32m-> 1573\u001b[0m     \u001b[38;5;28;01mreturn\u001b[39;00m \u001b[38;5;28;43mself\u001b[39;49m\u001b[38;5;241;43m.\u001b[39;49m\u001b[43mattrs\u001b[49m\u001b[43m[\u001b[49m\u001b[43mkey\u001b[49m\u001b[43m]\u001b[49m\n",
      "\u001b[1;31mKeyError\u001b[0m: 0"
     ]
    }
   ],
   "source": [
    "get_details(dee[0])"
   ]
  },
  {
   "cell_type": "code",
   "execution_count": 5,
   "id": "42ebe051-3971-47f3-a809-11e6b70afcf5",
   "metadata": {
    "scrolled": true,
    "tags": []
   },
   "outputs": [],
   "source": [
    "dict_of_data2 = {}\n",
    "for i in range(len(dict_of_data)):\n",
    "    dict_of_data2[i] = dict_of_data[i]"
   ]
  },
  {
   "cell_type": "code",
   "execution_count": 6,
   "id": "0be7451d-1f62-4e15-857a-9d0568a5cb49",
   "metadata": {
    "tags": []
   },
   "outputs": [],
   "source": [
    "df = pd.DataFrame.from_dict(dict_of_data2, orient='index')"
   ]
  },
  {
   "cell_type": "code",
   "execution_count": 7,
   "id": "10d0fb53-23bb-4cab-bf7c-15f6406d43b4",
   "metadata": {
    "tags": []
   },
   "outputs": [],
   "source": [
    "df.to_csv('10-march.csv')"
   ]
  },
  {
   "cell_type": "code",
   "execution_count": null,
   "id": "68375d39-f5f4-419a-8e86-f9df9cdc13a9",
   "metadata": {},
   "outputs": [],
   "source": []
  }
 ],
 "metadata": {
  "kernelspec": {
   "display_name": "Python 3 (ipykernel)",
   "language": "python",
   "name": "python3"
  },
  "language_info": {
   "codemirror_mode": {
    "name": "ipython",
    "version": 3
   },
   "file_extension": ".py",
   "mimetype": "text/x-python",
   "name": "python",
   "nbconvert_exporter": "python",
   "pygments_lexer": "ipython3",
   "version": "3.9.18"
  }
 },
 "nbformat": 4,
 "nbformat_minor": 5
}
