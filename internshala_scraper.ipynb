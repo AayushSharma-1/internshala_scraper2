{
 "cells": [
  {
   "cell_type": "code",
   "execution_count": 1,
   "id": "d9939c06-d06c-464c-bdad-c5bc0d996909",
   "metadata": {
    "tags": []
   },
   "outputs": [],
   "source": [
    "import requests\n",
    "import pandas as pd\n",
    "from bs4 import BeautifulSoup\n",
    "import re"
   ]
  },
  {
   "cell_type": "code",
   "execution_count": 49,
   "id": "c8899a47-211b-4e38-904a-2982c6836b99",
   "metadata": {
    "tags": []
   },
   "outputs": [],
   "source": [
    "def get_details(data):\n",
    "    title = ''\n",
    "    company_name = '' \n",
    "    location = []\n",
    "    start_date = ''\n",
    "    duration = ''\n",
    "    stipend =''\n",
    "    status = ''\n",
    "    links = ''\n",
    "    pattern_for_status = '<i class=\\\"ic-16-reschedule\\\"></i>([^<]+)'\n",
    "    # data = BeautifulSoup(data,'html.parser')\n",
    "    title = data.find('h3', attrs = {'class' : 'heading_4_5 profile'}).text.strip()\n",
    "    # for tag in data.find('div', attrs = {'class': 'company_and_premium'}):\n",
    "    company_name = re.findall('<p>\\s(.*?)</p>', str(data.find('div', attrs = {'class': 'company_and_premium'})))[0].strip()\n",
    "    # company_name = data.find('a', attrs = {'class': 'link_display_like_text view_detail_button'}).text.strip()\n",
    "    location.append(re.findall('>(.*?)</a>',str(data.find('div', attrs = {'id': 'location_names'})) ))\n",
    "    try:\n",
    "        start_date = data.find('span', attrs={'class': 'start_immediately_desktop'}).text\n",
    "    except AttributeError:\n",
    "        try:\n",
    "            start_date = data.find('div', attrs={'id': 'start-date-first'}).text\n",
    "        except AttributeError:\n",
    "            start_date = \"Not Available\"\n",
    "\n",
    "        \n",
    "    duration = data.find('div', attrs = {'class' : 'item_body'}).text.strip()\n",
    "    stipend = data.find('span', attrs = {'class' : 'stipend'}).text.strip()\n",
    "    status = re.findall(pattern_for_status , str(dee[0]))[0]\n",
    "    links = data.find('a', attrs = {'class' : 'btn btn-secondary view_detail_button_outline', 'href' : True}).get('href')\n",
    "    \n",
    "    data = {\n",
    "    \"Title\": title,\n",
    "    \"Company Name\": company_name,\n",
    "    \"Location\": location,\n",
    "    \"Start Date\": start_date,\n",
    "    \"Duration\": duration,\n",
    "    \"Stipend\": stipend,\n",
    "    \"Status\": status,\n",
    "    \"Links\": 'https://internshala.com' + links\n",
    "    }\n",
    "    \n",
    "    return data\n",
    "    "
   ]
  },
  {
   "cell_type": "code",
   "execution_count": 21,
   "id": "199c9d37-16be-486f-8695-d1c2a932c500",
   "metadata": {
    "tags": []
   },
   "outputs": [
    {
     "name": "stdout",
     "output_type": "stream",
     "text": [
      "Response = 200\n",
      "Parsed Landing Page\n"
     ]
    }
   ],
   "source": [
    "# link = 'https://internshala.com/internships/computer-science-internship/'\n",
    "link = 'https://internshala.com/internships/big-data,data-analysis,data-analytics,data-science,machine-learning,python-internship/'\n",
    "\n",
    "response = requests.get(link)\n",
    "print('Response = ' + str(response.status_code))\n",
    "    \n",
    "if response.status_code == 200:\n",
    "    soup = BeautifulSoup(response.content, 'html.parser')\n",
    "    print(\"Parsed Landing Page\")\n",
    "    \n",
    "    link_soup = soup.find('span', attrs = {'id':\"total_pages\"}).text\n",
    "    total_pages = int(link_soup)\n",
    "    \n"
   ]
  },
  {
   "cell_type": "code",
   "execution_count": 23,
   "id": "bd8c522c",
   "metadata": {},
   "outputs": [
    {
     "ename": "NameError",
     "evalue": "name 'data' is not defined",
     "output_type": "error",
     "traceback": [
      "\u001b[1;31m---------------------------------------------------------------------------\u001b[0m",
      "\u001b[1;31mNameError\u001b[0m                                 Traceback (most recent call last)",
      "Cell \u001b[1;32mIn[23], line 1\u001b[0m\n\u001b[1;32m----> 1\u001b[0m \u001b[43mdata\u001b[49m\n",
      "\u001b[1;31mNameError\u001b[0m: name 'data' is not defined"
     ]
    }
   ],
   "source": [
    "data"
   ]
  },
  {
   "cell_type": "code",
   "execution_count": 51,
   "id": "251df9f5-6ca4-47ea-927b-ddae2ddec733",
   "metadata": {
    "tags": []
   },
   "outputs": [],
   "source": [
    "dict_of_data = []\n",
    "for j in range(1,total_pages+1):\n",
    "    \n",
    "    res_link = link + 'page-' + str(j)\n",
    "    res = requests.get(res_link)\n",
    "    res_soup = BeautifulSoup(res.content, 'html.parser')\n",
    "    dee = res_soup.find_all('div', attrs = {'class' : 'container-fluid individual_internship visibilityTrackerItem'})\n",
    "    \n",
    "    for i in range(len(dee)):\n",
    "        dict_of_data.append(get_details(dee[i]))"
   ]
  },
  {
   "cell_type": "code",
   "execution_count": 55,
   "metadata": {},
   "outputs": [
    {
     "data": {
      "text/plain": [
       "{'Title': 'Machine Learning',\n",
       " 'Company Name': 'Avaari',\n",
       " 'Location': [['Work from home']],\n",
       " 'Start Date': 'Immediately',\n",
       " 'Duration': 'Starts\\xa0immediatelyImmediately',\n",
       " 'Stipend': '₹ 15,000 /month',\n",
       " 'Status': '1 week ago',\n",
       " 'Links': 'https://internshala.com/internship/detail/work-from-home-machine-learning-internship-at-avaari1710401286'}"
      ]
     },
     "execution_count": 55,
     "metadata": {},
     "output_type": "execute_result"
    }
   ],
   "source": [
    "get_details(dee[0])"
   ]
  },
  {
   "cell_type": "code",
   "execution_count": 52,
   "id": "42ebe051-3971-47f3-a809-11e6b70afcf5",
   "metadata": {
    "scrolled": true,
    "tags": []
   },
   "outputs": [],
   "source": [
    "dict_of_data2 = {}\n",
    "for i in range(len(dict_of_data)):\n",
    "    dict_of_data2[i] = dict_of_data[i]"
   ]
  },
  {
   "cell_type": "code",
   "execution_count": 53,
   "id": "0be7451d-1f62-4e15-857a-9d0568a5cb49",
   "metadata": {
    "tags": []
   },
   "outputs": [],
   "source": [
    "df = pd.DataFrame.from_dict(dict_of_data2, orient='index')"
   ]
  },
  {
   "cell_type": "code",
   "execution_count": 54,
   "id": "dbe3c6b4",
   "metadata": {},
   "outputs": [
    {
     "data": {
      "text/html": [
       "<div>\n",
       "<style scoped>\n",
       "    .dataframe tbody tr th:only-of-type {\n",
       "        vertical-align: middle;\n",
       "    }\n",
       "\n",
       "    .dataframe tbody tr th {\n",
       "        vertical-align: top;\n",
       "    }\n",
       "\n",
       "    .dataframe thead th {\n",
       "        text-align: right;\n",
       "    }\n",
       "</style>\n",
       "<table border=\"1\" class=\"dataframe\">\n",
       "  <thead>\n",
       "    <tr style=\"text-align: right;\">\n",
       "      <th></th>\n",
       "      <th>Title</th>\n",
       "      <th>Company Name</th>\n",
       "      <th>Location</th>\n",
       "      <th>Start Date</th>\n",
       "      <th>Duration</th>\n",
       "      <th>Stipend</th>\n",
       "      <th>Status</th>\n",
       "      <th>Links</th>\n",
       "    </tr>\n",
       "  </thead>\n",
       "  <tbody>\n",
       "    <tr>\n",
       "      <th>0</th>\n",
       "      <td>Cyber Security</td>\n",
       "      <td>Secnic Consultancy Services Private Limited</td>\n",
       "      <td>[[Agra]]</td>\n",
       "      <td>Immediately</td>\n",
       "      <td>Starts immediatelyImmediately</td>\n",
       "      <td>₹ 3,000 /month</td>\n",
       "      <td>Few hours ago</td>\n",
       "      <td>https://internshala.com/internship/detail/cybe...</td>\n",
       "    </tr>\n",
       "    <tr>\n",
       "      <th>1</th>\n",
       "      <td>Equity Research Intern</td>\n",
       "      <td>Vallum Capital Advisors Private Limited</td>\n",
       "      <td>[[Mumbai, Jodhpur]]</td>\n",
       "      <td>Immediately</td>\n",
       "      <td>Starts immediatelyImmediately</td>\n",
       "      <td>₹ 10,000-12,000 /month</td>\n",
       "      <td>Few hours ago</td>\n",
       "      <td>https://internshala.com/internship/detail/equi...</td>\n",
       "    </tr>\n",
       "    <tr>\n",
       "      <th>2</th>\n",
       "      <td>Software Development Engineering (Web)</td>\n",
       "      <td>Secnic Consultancy Services Private Limited</td>\n",
       "      <td>[[Agra]]</td>\n",
       "      <td>Immediately</td>\n",
       "      <td>Starts immediatelyImmediately</td>\n",
       "      <td>₹ 3,000 /month</td>\n",
       "      <td>Few hours ago</td>\n",
       "      <td>https://internshala.com/internship/detail/soft...</td>\n",
       "    </tr>\n",
       "    <tr>\n",
       "      <th>3</th>\n",
       "      <td>Software Development</td>\n",
       "      <td>Secnic Consultancy Services Private Limited</td>\n",
       "      <td>[[Agra]]</td>\n",
       "      <td>Immediately</td>\n",
       "      <td>Starts immediatelyImmediately</td>\n",
       "      <td>₹ 3,000 /month</td>\n",
       "      <td>Few hours ago</td>\n",
       "      <td>https://internshala.com/internship/detail/soft...</td>\n",
       "    </tr>\n",
       "    <tr>\n",
       "      <th>4</th>\n",
       "      <td>Backend Development</td>\n",
       "      <td>Secnic Consultancy Services Private Limited</td>\n",
       "      <td>[[Agra]]</td>\n",
       "      <td>Immediately</td>\n",
       "      <td>Starts immediatelyImmediately</td>\n",
       "      <td>₹ 5,000 /month</td>\n",
       "      <td>Few hours ago</td>\n",
       "      <td>https://internshala.com/internship/detail/back...</td>\n",
       "    </tr>\n",
       "    <tr>\n",
       "      <th>...</th>\n",
       "      <td>...</td>\n",
       "      <td>...</td>\n",
       "      <td>...</td>\n",
       "      <td>...</td>\n",
       "      <td>...</td>\n",
       "      <td>...</td>\n",
       "      <td>...</td>\n",
       "      <td>...</td>\n",
       "    </tr>\n",
       "    <tr>\n",
       "      <th>269</th>\n",
       "      <td>Network Automation &amp; QA Intern</td>\n",
       "      <td>COSGrid Systems Private Limited</td>\n",
       "      <td>[[Chennai]]</td>\n",
       "      <td>Immediately</td>\n",
       "      <td>Starts immediatelyImmediately</td>\n",
       "      <td>₹ 15,000-20,000 /month</td>\n",
       "      <td>1 week ago</td>\n",
       "      <td>https://internshala.com/internship/detail/netw...</td>\n",
       "    </tr>\n",
       "    <tr>\n",
       "      <th>270</th>\n",
       "      <td>Digital Marketing</td>\n",
       "      <td>COSGrid Systems Private Limited</td>\n",
       "      <td>[[Chennai]]</td>\n",
       "      <td>Immediately</td>\n",
       "      <td>Starts immediatelyImmediately</td>\n",
       "      <td>₹ 12,000-20,000 /month</td>\n",
       "      <td>1 week ago</td>\n",
       "      <td>https://internshala.com/internship/detail/digi...</td>\n",
       "    </tr>\n",
       "    <tr>\n",
       "      <th>271</th>\n",
       "      <td>Data Analytics</td>\n",
       "      <td>Rajat Khanna (New Orleans, United States)</td>\n",
       "      <td>[[Work from home]]</td>\n",
       "      <td>Immediately</td>\n",
       "      <td>Starts immediatelyImmediately</td>\n",
       "      <td>₹ 1,000 /month</td>\n",
       "      <td>1 week ago</td>\n",
       "      <td>https://internshala.com/internship/detail/work...</td>\n",
       "    </tr>\n",
       "    <tr>\n",
       "      <th>272</th>\n",
       "      <td>Artificial Intelligence (AI)</td>\n",
       "      <td>Digipplus</td>\n",
       "      <td>[[Work from home]]</td>\n",
       "      <td>Immediately</td>\n",
       "      <td>Starts immediatelyImmediately</td>\n",
       "      <td>₹ 25,000 /month</td>\n",
       "      <td>1 week ago</td>\n",
       "      <td>https://internshala.com/internship/detail/work...</td>\n",
       "    </tr>\n",
       "    <tr>\n",
       "      <th>273</th>\n",
       "      <td>Automated Sales Software Development</td>\n",
       "      <td>Bijon Trading Private Limited (Genotek)</td>\n",
       "      <td>[[Work from home]]</td>\n",
       "      <td>Immediately</td>\n",
       "      <td>Starts immediatelyImmediately</td>\n",
       "      <td>₹ 5,000-25,000 /month</td>\n",
       "      <td>1 week ago</td>\n",
       "      <td>https://internshala.com/internship/detail/work...</td>\n",
       "    </tr>\n",
       "  </tbody>\n",
       "</table>\n",
       "<p>274 rows × 8 columns</p>\n",
       "</div>"
      ],
      "text/plain": [
       "                                      Title  \\\n",
       "0                            Cyber Security   \n",
       "1                    Equity Research Intern   \n",
       "2    Software Development Engineering (Web)   \n",
       "3                      Software Development   \n",
       "4                       Backend Development   \n",
       "..                                      ...   \n",
       "269          Network Automation & QA Intern   \n",
       "270                       Digital Marketing   \n",
       "271                          Data Analytics   \n",
       "272            Artificial Intelligence (AI)   \n",
       "273    Automated Sales Software Development   \n",
       "\n",
       "                                    Company Name             Location  \\\n",
       "0    Secnic Consultancy Services Private Limited             [[Agra]]   \n",
       "1        Vallum Capital Advisors Private Limited  [[Mumbai, Jodhpur]]   \n",
       "2    Secnic Consultancy Services Private Limited             [[Agra]]   \n",
       "3    Secnic Consultancy Services Private Limited             [[Agra]]   \n",
       "4    Secnic Consultancy Services Private Limited             [[Agra]]   \n",
       "..                                           ...                  ...   \n",
       "269              COSGrid Systems Private Limited          [[Chennai]]   \n",
       "270              COSGrid Systems Private Limited          [[Chennai]]   \n",
       "271    Rajat Khanna (New Orleans, United States)   [[Work from home]]   \n",
       "272                                    Digipplus   [[Work from home]]   \n",
       "273      Bijon Trading Private Limited (Genotek)   [[Work from home]]   \n",
       "\n",
       "      Start Date                       Duration                 Stipend  \\\n",
       "0    Immediately  Starts immediatelyImmediately          ₹ 3,000 /month   \n",
       "1    Immediately  Starts immediatelyImmediately  ₹ 10,000-12,000 /month   \n",
       "2    Immediately  Starts immediatelyImmediately          ₹ 3,000 /month   \n",
       "3    Immediately  Starts immediatelyImmediately          ₹ 3,000 /month   \n",
       "4    Immediately  Starts immediatelyImmediately          ₹ 5,000 /month   \n",
       "..           ...                            ...                     ...   \n",
       "269  Immediately  Starts immediatelyImmediately  ₹ 15,000-20,000 /month   \n",
       "270  Immediately  Starts immediatelyImmediately  ₹ 12,000-20,000 /month   \n",
       "271  Immediately  Starts immediatelyImmediately          ₹ 1,000 /month   \n",
       "272  Immediately  Starts immediatelyImmediately         ₹ 25,000 /month   \n",
       "273  Immediately  Starts immediatelyImmediately   ₹ 5,000-25,000 /month   \n",
       "\n",
       "            Status                                              Links  \n",
       "0    Few hours ago  https://internshala.com/internship/detail/cybe...  \n",
       "1    Few hours ago  https://internshala.com/internship/detail/equi...  \n",
       "2    Few hours ago  https://internshala.com/internship/detail/soft...  \n",
       "3    Few hours ago  https://internshala.com/internship/detail/soft...  \n",
       "4    Few hours ago  https://internshala.com/internship/detail/back...  \n",
       "..             ...                                                ...  \n",
       "269     1 week ago  https://internshala.com/internship/detail/netw...  \n",
       "270     1 week ago  https://internshala.com/internship/detail/digi...  \n",
       "271     1 week ago  https://internshala.com/internship/detail/work...  \n",
       "272     1 week ago  https://internshala.com/internship/detail/work...  \n",
       "273     1 week ago  https://internshala.com/internship/detail/work...  \n",
       "\n",
       "[274 rows x 8 columns]"
      ]
     },
     "execution_count": 54,
     "metadata": {},
     "output_type": "execute_result"
    }
   ],
   "source": [
    "df"
   ]
  },
  {
   "cell_type": "code",
   "execution_count": 7,
   "id": "10d0fb53-23bb-4cab-bf7c-15f6406d43b4",
   "metadata": {
    "tags": []
   },
   "outputs": [],
   "source": [
    "df.to_csv('10-march.csv')"
   ]
  },
  {
   "cell_type": "code",
   "execution_count": null,
   "id": "68375d39-f5f4-419a-8e86-f9df9cdc13a9",
   "metadata": {},
   "outputs": [],
   "source": []
  }
 ],
 "metadata": {
  "kernelspec": {
   "display_name": "Python 3 (ipykernel)",
   "language": "python",
   "name": "python3"
  },
  "language_info": {
   "codemirror_mode": {
    "name": "ipython",
    "version": 3
   },
   "file_extension": ".py",
   "mimetype": "text/x-python",
   "name": "python",
   "nbconvert_exporter": "python",
   "pygments_lexer": "ipython3",
   "version": "3.9.18"
  }
 },
 "nbformat": 4,
 "nbformat_minor": 5
}
