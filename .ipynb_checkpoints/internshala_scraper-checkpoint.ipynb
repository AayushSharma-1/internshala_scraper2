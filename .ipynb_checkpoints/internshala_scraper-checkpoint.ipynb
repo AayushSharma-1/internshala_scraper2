{
 "cells": [
  {
   "cell_type": "code",
   "execution_count": 1,
   "id": "d9939c06-d06c-464c-bdad-c5bc0d996909",
   "metadata": {
    "tags": []
   },
   "outputs": [],
   "source": [
    "import requests\n",
    "import pandas as pd\n",
    "from bs4 import BeautifulSoup\n",
    "import re"
   ]
  },
  {
   "cell_type": "code",
   "execution_count": 92,
   "id": "c8899a47-211b-4e38-904a-2982c6836b99",
   "metadata": {
    "tags": []
   },
   "outputs": [],
   "source": [
    "def get_details(data):\n",
    "    title = ''\n",
    "    company_name = '' \n",
    "    location = []\n",
    "    start_date = ''\n",
    "    duration = ''\n",
    "    stipend =''\n",
    "    status = ''\n",
    "    links = ''\n",
    "    pattern_for_status = '<i class=\\\"ic-16-reschedule\\\"></i>([^<]+)'\n",
    "    # data = BeautifulSoup(data.content,'html,parser')\n",
    "    title = data.find('a', attrs = {'class' : 'view_detail_button'}).text\n",
    "    company_name = data.find('a', attrs = {'class': 'link_display_like_text view_detail_button'}).text.strip()\n",
    "    location.append(re.findall('>(.*?)</a>',str(data.find_all('a', attrs = {'class': 'location_link view_detail_button'})) ))\n",
    "    try:\n",
    "        start_date = data.find('span', attrs={'class': 'start_immediately_desktop'}).text\n",
    "    except AttributeError:\n",
    "        try:\n",
    "            start_date = data.find('div', attrs={'id': 'start-date-first'}).text\n",
    "        except AttributeError:\n",
    "            start_date = \"Not Available\"\n",
    "\n",
    "        \n",
    "    duration = data.find('div', attrs = {'class' : 'item_body'}).text.strip()\n",
    "    stipend = data.find('span', attrs = {'class' : 'stipend'}).text.strip()\n",
    "    status = re.findall(pattern , str(dee[0]))[0]\n",
    "    links = data.find('a', attrs = {'class' : 'btn btn-secondary view_detail_button_outline', 'href' : True}).get('href')\n",
    "    \n",
    "    data = {\n",
    "    \"Title\": title,\n",
    "    \"Company Name\": company_name,\n",
    "    \"Location\": location,\n",
    "    \"Start Date\": start_date,\n",
    "    \"Duration\": duration,\n",
    "    \"Stipend\": stipend,\n",
    "    \"Status\": status,\n",
    "    \"Links\": 'https://internshala.com' + links\n",
    "    }\n",
    "    \n",
    "    return data\n",
    "    "
   ]
  },
  {
   "cell_type": "code",
   "execution_count": 93,
   "id": "199c9d37-16be-486f-8695-d1c2a932c500",
   "metadata": {
    "tags": []
   },
   "outputs": [
    {
     "name": "stdout",
     "output_type": "stream",
     "text": [
      "Response = 200\n",
      "Parsed Landing Page\n"
     ]
    }
   ],
   "source": [
    "# link = 'https://internshala.com/internships/computer-science-internship/'\n",
    "link = 'https://internshala.com/internships/'\n",
    "\n",
    "response = requests.get(link)\n",
    "print('Response = ' + str(response.status_code))\n",
    "    \n",
    "if response.status_code == 200:\n",
    "    soup = BeautifulSoup(response.content, 'html.parser')\n",
    "    print(\"Parsed Landing Page\")\n",
    "    \n",
    "    link_soup = soup.find('span', attrs = {'id':\"total_pages\"}).text\n",
    "    total_pages = int(link_soup)\n",
    "    \n"
   ]
  },
  {
   "cell_type": "code",
   "execution_count": 94,
   "id": "251df9f5-6ca4-47ea-927b-ddae2ddec733",
   "metadata": {
    "tags": []
   },
   "outputs": [],
   "source": [
    "dict_of_data = []\n",
    "for j in range(1,total_pages+1):\n",
    "    \n",
    "    res_link = link + 'page-' + str(j)\n",
    "    res = requests.get(res_link)\n",
    "    res_soup = BeautifulSoup(res.content, 'html.parser')\n",
    "    dee = res_soup.find_all('div', attrs = {'class' : 'container-fluid individual_internship visibilityTrackerItem'})\n",
    "    \n",
    "    for i in range(len(dee)):\n",
    "        dict_of_data.append(get_details(dee[i]))"
   ]
  },
  {
   "cell_type": "code",
   "execution_count": 95,
   "id": "42ebe051-3971-47f3-a809-11e6b70afcf5",
   "metadata": {
    "scrolled": true,
    "tags": []
   },
   "outputs": [],
   "source": [
    "dict_of_data2 = {}\n",
    "for i in range(len(dict_of_data)):\n",
    "    dict_of_data2[i] = dict_of_data[i]"
   ]
  },
  {
   "cell_type": "code",
   "execution_count": 96,
   "id": "0be7451d-1f62-4e15-857a-9d0568a5cb49",
   "metadata": {
    "tags": []
   },
   "outputs": [],
   "source": [
    "df = pd.DataFrame.from_dict(dict_of_data2, orient='index')"
   ]
  },
  {
   "cell_type": "code",
   "execution_count": 97,
   "id": "10d0fb53-23bb-4cab-bf7c-15f6406d43b4",
   "metadata": {
    "tags": []
   },
   "outputs": [],
   "source": [
    "df.to_csv('whole_Internshala_scraped2.csv')"
   ]
  },
  {
   "cell_type": "code",
   "execution_count": null,
   "id": "68375d39-f5f4-419a-8e86-f9df9cdc13a9",
   "metadata": {},
   "outputs": [],
   "source": []
  }
 ],
 "metadata": {
  "kernelspec": {
   "display_name": "Python 3 (ipykernel)",
   "language": "python",
   "name": "python3"
  },
  "language_info": {
   "codemirror_mode": {
    "name": "ipython",
    "version": 3
   },
   "file_extension": ".py",
   "mimetype": "text/x-python",
   "name": "python",
   "nbconvert_exporter": "python",
   "pygments_lexer": "ipython3",
   "version": "3.9.18"
  }
 },
 "nbformat": 4,
 "nbformat_minor": 5
}
